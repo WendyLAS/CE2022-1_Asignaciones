{
  "nbformat": 4,
  "nbformat_minor": 0,
  "metadata": {
    "colab": {
      "name": "PrimerNB_WendyLAS.ipynb",
      "provenance": [],
      "collapsed_sections": []
    },
    "kernelspec": {
      "name": "python3",
      "display_name": "Python 3"
    },
    "language_info": {
      "name": "python"
    }
  },
  "cells": [
    {
      "cell_type": "markdown",
      "source": [
        "# **Mi Primer Notebook \"Google Colaboratory\" 📋** #"
      ],
      "metadata": {
        "id": "WF0I78p-zTgg"
      }
    },
    {
      "cell_type": "markdown",
      "source": [
        "> **Presentado por:**\n",
        "\n",
        "*   Wendy Lorena Alvarado Sánchez\n",
        "\n",
        "> **Presentado a:** \n",
        "\n",
        "*   Profesor Aquiles Enrique Darghan Contreras\n",
        "*   Monitor Carlos Armando Rivera Moreno\n",
        "*   Monitor José Luis Castellanos Coronel\n",
        "\n",
        ">  **Asignación 1:**\n",
        "\n",
        "*   Creación de *Mi Primer Notebook \"Google Colaboratory\"*, a partir de la clase 1: 07 de febrero de 2022.\n",
        "\n",
        "\n",
        "\n",
        "\n",
        "\n",
        "\n",
        "\n",
        "\n",
        "\n"
      ],
      "metadata": {
        "id": "mn_FME48NZg3"
      }
    },
    {
      "cell_type": "markdown",
      "source": [
        "## Usos"
      ],
      "metadata": {
        "id": "BaNQOq2T3Wmr"
      }
    },
    {
      "cell_type": "markdown",
      "source": [
        "En Colaboratory puedo:\n",
        "\n",
        "\n",
        "1.  ❗ Ingresar información en **formato \"texto\"**.\n",
        "\n",
        "Para esto debo *crear un chunk en formato texto*, e ingresar en este la información de interés haciendo uso de las opciones de formato \"texto\" ofrecidas dentro del mismo chunk, en la parte superior, o escribiendo algunos caracteres al inicio y al final, de porciones de texto específicos, a fin de presentarlos en formato Markdown, según sea el interés. Así:"
      ],
      "metadata": {
        "id": "worJkLikca-C"
      }
    },
    {
      "cell_type": "markdown",
      "source": [
        "\n",
        "\n",
        "---\n",
        "\n",
        "\n",
        "> **Para títulos**\n",
        "\n",
        "*   Título de primer nível: \"**#** \" al inicio y opcionalmente \" **#**\" al final del texto.\n",
        "\n",
        "✅ Ejemplo:\n",
        "\n",
        "# Título 1 #\n",
        "\n",
        "*   Títulos de segundo nível: \"**##** \" al inicio y opcionalmente \" **##**\" al final  del texto.\n",
        "\n",
        "✅ Ejemplo:\n",
        "\n",
        "## Título 2\n",
        "\n",
        "*   Título de tercer nivel: \"**###** \" al inicio y opcionalmente \" **###**\" al final del texto.\n",
        "\n",
        "✅ Ejemplo:\n",
        "\n",
        "### Título 3 ###\n",
        "\n",
        "*Observaciones:*\n",
        "\n",
        "*   Según el nivel de título deseado, se digita igual cantidad de símbolo número \"#\". Así, para un título de sexto nivel, que es el nível máximo aceptado por Colaboratory, se digitarían 6 en total: \"**######** \".\n",
        "\n",
        "✅ Ejemplo:\n",
        "\n",
        "###### Título 6\n",
        "\n",
        "*   No es indispensable agregar un espacio \" \" *después* de los súmbolos número \"#\", si es antes del texto de interés, o *antes* de estos, si es al final del texto de interés,  para que el comando sea interpretado correctamente por Colaboratory. Aunque tal condición se recomienda para el formato Markdown, para Colaboratory, es indiferente, puesto que aunque se agregue o no se haga, el recurso igual presenta el texto de interés, en dicho formato.\n",
        "\n",
        "*   No es necesario ingresar la indicación al final del texto de interés. Es decir, basta con ingresar la indicación del inicio, pero si se ingresa al final, tampoco se ve afectado negativamente. Se presenta el título igual con o sin la indicación al final del texto de interés."
      ],
      "metadata": {
        "id": "e2vjh-_73mqr"
      }
    },
    {
      "cell_type": "markdown",
      "source": [
        "\n",
        "\n",
        "---\n",
        "\n",
        "\n",
        "> **Para negrita**\n",
        "\n",
        "*   \"******\" al inicio y al final del texto de interés.\n",
        "\n",
        "✅ Ejemplo dentro de un párrafo:\n",
        "\n",
        "Mi primer Notebook en Colaboratory (Colab), es un **entorno interactivo** que me permite escribir y ejecutar código.\n",
        "\n",
        "✅ Ejemplo en un título:\n",
        "\n",
        "####**Título 4 (con negrita)**:\n",
        "\n",
        "*Observaciones:*\n",
        "\n",
        "*   Es necesario digitar \"**\" tanto al inicio, como al final del texto de interés, pues en caso de no hacerlo, la indicación será incorreta y Colab no podrá reconocer la misma; por lo cual el texto no se presentará en negrita.\n",
        "\n",
        "*   No es correcto ingresar uno o más espacios \" \" después de los dos símbolos de asterisco \"**\", si es antes del texto de interés, ni antes de los mismo, si es después de dicho texto. En caso tal, Colab no podrá reconocer la indicación.\n",
        "\n",
        "*   Siempre deben ingresarse los dos asteríscos seguidos, es decir, siempre dicha cantidad y sin espacios \" \" entre estos, pues en caso tal, no podrá ser interpretada la indicación por Colab."
      ],
      "metadata": {
        "id": "E3u_eujQVWl1"
      }
    },
    {
      "cell_type": "markdown",
      "source": [
        "\n",
        "\n",
        "---\n",
        "\n",
        "\n",
        "> **Para cursiva**\n",
        "\n",
        "*   \"*\" al inicio y al final del texto de interés.\n",
        "\n",
        "\n",
        "✅ Ejemplo dentro de un párrafo:\n",
        "\n",
        "Mi primer Notebook en Colaboratory (Colab), es un entorno interactivo que me *permite escribir y ejecutar código*.\n",
        "\n",
        "\n",
        "✅ Ejemplo en un título:\n",
        "\n",
        "#####*Título 5 (con cursiva)*\n",
        "\n",
        "*Observaciones:*\n",
        "\n",
        "*   Es necesario digitar un solo símbolo de asterísco \"*\" tanto al inicio, como al final del texto de interés, pues en caso de no hacerlo, la indicación será incorreta y Colab no podrá reconocer la misma; por lo cual el texto no se presentará en cursiva.\n",
        "\n",
        "*   No es correcto ingresar uno o más espacios \" \" después del símbolo de asterisco \"*\", si es antes del texto de interés, ni antes de los mismo, si es después de dicho texto. En caso tal, Colab no podrá reconocer la indicación.\n",
        "\n",
        "*   Para presentar un texto en cursiva y negrita a la vez, es necesario ingresar tres asteríscos seguidos \"*******\", sin espacios \" \" después, si es antes del texto de interés, ni antes de los mismo, si es después del texto propuesto, ni otro tipo de caracteres, ya que en caso contrario, Colab no podrá reconocer la indicación.\n",
        "\n",
        "✅ Ejemplo en un título con cursiva y negrita:\n",
        "\n",
        "######***Título 6 (con cursiva y negrita)***"
      ],
      "metadata": {
        "id": "CgSU_BBI1mry"
      }
    },
    {
      "cell_type": "markdown",
      "source": [
        "\n",
        "\n",
        "\n",
        "---\n",
        "\n",
        "\n",
        "> **Para ecuaciones**\n",
        "\n",
        "\n",
        "*   \"**$$**\"  al inicio y al final del texto de interés. Esto la hace lucir similar al formato LATEX.\n",
        "\n",
        "✅ Ejemplo:  \n",
        "\n",
        "$$ax^2+bx+c=0$$\n",
        "\n",
        "*Observaciones:*\n",
        "\n",
        "*   Es necesario digitar dos símbolos de peso o dolar \"$$\", seguidos, tanto al inicio, como al final del texto de interés, pues en caso de no hacerlo, la indicación será incorreta y Colab no podrá reconocer la misma; por lo cual el texto no se presentará como una ecuación en formato similar a LATEX.\n",
        "\n",
        "*   No es correcto ingresar uno o más espacios \" \" después del símbolo de peso o dolar\"$\", si es antes del texto de interés, ni antes de los mismo, si es después de dicho texto. En caso tal, Colab no podrá reconocer la indicación.\n",
        "\n",
        "*   Resulta indiferente si se digitan dos o tres símbolos de asterisco \"*\" antes y después de los símbolos peso o dolar \"$\", pues el formato de la ecuación no cambia a negrita, ni cursiva, puesto que ya presenta tal particularidad. Sin embargo, si se digitan después de dichos símbolos, si es antes del texto de interés, y antes de los síbolos, si es después del texto de interés, la ecuación asume estos, como símbolos de multiplicación, lo cual afecta a la ecuación misma, no a su aspecto; por tanto, se precisa guardar cuidado al respecto.\n",
        "\n",
        "*   Es posible apoyarse de algunos editores de texto, para digitar más facilmente ecuaciomes en formato similar a LATEX. Una vez escritas allí, se puede copiar y pegar directamente en un un chunk en formato \"texto\", antecedido por \"$$\" y seguido, posterior a todo el texto pegado, también por \"$$\".\n",
        "\n",
        "✅ Ejemplo:\n",
        "\n",
        "$$x_{1/2}=\\frac{-b±\\sqrt{b^2-4ac}{2a}x_{1/2}=\\frac{-b±\\sqrt{b^2-4ac}{2a}$$\n",
        "\n",
        "Nota: Intenté un buen tiempo ingresar esta y otras ecuaciones en el editor sugerido, pero no estaban disponibles algunas opciones necesaias. En este caso, por ejemplo, las llaves que indican que se va a evaluar el resultado en los extremos de la integral.\n",
        "\n",
        "✅ Ejemplo:\n",
        "\n",
        "$$\\int_{2}^{3}\\frac{x}{\\sqrt{x^2-1}}dx$$\n",
        "\n",
        "$$\\int_{2}^{3}\\frac{x}{\\sqrt{x^2-1}}dx$$\n",
        "$$=\\frac{1}{2}*[\\frac{2}{3}][(25)}^\\frac{3}{2}]-(9)^\\frac{3}{2}$$\n",
        "$$=\\frac {1}{3} [5^3-3^3]$$\n",
        "$$=\\frac {1}{3} [125-27]$$\n",
        "$$=98/3$$\n",
        "\n",
        "Nota: no logré dar con cuál era el error en la línea que no se transformó en formato Markdoun.\n"
      ],
      "metadata": {
        "id": "dyWQj-e4pfMC"
      }
    },
    {
      "cell_type": "markdown",
      "source": [
        " \n",
        "\n",
        "---\n",
        "\n",
        "\n",
        "> **Para cargar imágenes**\n",
        "\n",
        "En un chunk de formato \"texto\", digito \"**![]()**\". Seguidamente, dentro del paréntesis ingreso la ruta o URL de la imagen de interés. Así\n",
        "\n",
        "✅ Ejemplo desde drive:\n",
        "\n",
        "![](/content/drive/MyDrive/Electivas/ComputacionEstadisticaWendyAlvarado/Entrega1/Imagen_Asignacion1.gdraw)\n",
        "\n",
        "Nota: no me función\n",
        "\n",
        "✅ Ejemplo desde internet:\n",
        "\n",
        "![](data:image/jpeg;base64,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)"
      ],
      "metadata": {
        "id": "4igeBj5A42gc"
      }
    },
    {
      "cell_type": "markdown",
      "source": [
        "\n",
        "---\n",
        "\n",
        "---\n",
        "\n",
        "2.   ❗ Ingresar y ejecutar información en **formato \"código\"**.\n",
        "\n",
        "Para esto debo *crear un chunk en formato código*. Seguidamente ingresar la información de interés y luego correr el chunk."
      ],
      "metadata": {
        "id": "IMfXy6Nyu4B4"
      }
    },
    {
      "cell_type": "markdown",
      "source": [
        "---\n",
        "\n",
        "\n",
        "> **Para operaciones matemáticas**\n",
        "\n",
        "✅ Ejemplo:"
      ],
      "metadata": {
        "id": "8IHJZoZkGu3L"
      }
    },
    {
      "cell_type": "code",
      "source": [
        "2*3"
      ],
      "metadata": {
        "colab": {
          "base_uri": "https://localhost:8080/"
        },
        "id": "rzyZaiRZNKd1",
        "outputId": "07b5f9f1-17d1-4328-edef-9b8f29e28eec"
      },
      "execution_count": 21,
      "outputs": [
        {
          "output_type": "execute_result",
          "data": {
            "text/plain": [
              "6"
            ]
          },
          "metadata": {},
          "execution_count": 21
        }
      ]
    },
    {
      "cell_type": "markdown",
      "source": [
        "---\n",
        "\n",
        "> **Cargar archivos de interés**\n",
        "\n",
        "\n",
        "Desde un ckunk en formato código, puedo asociar archivos guardados en Drive, a mi Notebook. Así:\n",
        "\n"
      ],
      "metadata": {
        "id": "cuFYJiou0_MV"
      }
    },
    {
      "cell_type": "markdown",
      "source": [
        "*   Archivos **temporales**\n",
        "\n",
        "Por medio de la siguiente ruta:\n",
        "\n",
        "1.Archivos >> 2.Subir al almacenamiento de sesión >> 3.Arrastro archivo guardado en el equipo, a la sección sección seleccionada en el paso 2 >> 4.Refresco la página >> 5.Click en los puntos del nombre del documento de interés >> 6.Copiar Ruta >> Creo chunk en formato \"código\" >> 7.Digito \"ubi_archivo =\" y pego la ruta por medio del paso 7.1 o del paso 7.2 >> 7.1.Click derecho en el chunk >> 7.11.Pegar >> 7.2.Digitar comando \"Ctrl + v\" >> 8.Correr.\n",
        "\n",
        "✅ Ejemplo:"
      ],
      "metadata": {
        "id": "UkecfWbQ3w1F"
      }
    },
    {
      "cell_type": "code",
      "source": [
        "\n",
        "ubi_archivo = '/content/PromediosClimatologicos1971_2000IDEAM.xlsx'"
      ],
      "metadata": {
        "id": "deXgTCdrDXH8"
      },
      "execution_count": 22,
      "outputs": []
    },
    {
      "cell_type": "markdown",
      "source": [
        "*   Archivos **permanentes**\n",
        "\n",
        "Por medio de la siguiente ruta:\n",
        "\n",
        "1.Archivos >> 2.Activar Drive >> 3.Refresco la página >> 4.drive >> 5.Busco la carpeta de ubicación de archivo guardado en mi drive, previamente. 6. Ubico el archivo de interés y doy click en los puntos que aparecen, al final de su nombre >> 7.Copiar Ruta >> Creo chunk en formato \"código\" >> 7.Digito \"ubi_archivo =\" y pego la ruta por medio del paso 7.1 o del paso 7.2 >> 7.1.Click derecho en el chunk >> 7.11.Pegar >> 7.2.Digitar comando \"Ctrl + v\" >> 8.Correr.\n",
        "\n",
        "✅ Ejemplo:"
      ],
      "metadata": {
        "id": "jzeK9n-a3z-g"
      }
    },
    {
      "cell_type": "code",
      "source": [
        "ubi_archivo = '/content/drive/MyDrive/Electivas/ComputacionEstadisticaWendyAlvarado/Entrega1/PromediosClimatologicos1971_2000IDEAM.xlsx'"
      ],
      "metadata": {
        "id": "NpDTZl_AIfDH"
      },
      "execution_count": 23,
      "outputs": []
    },
    {
      "cell_type": "markdown",
      "source": [
        "\n",
        "\n",
        "---\n",
        "\n",
        "\n",
        "\n",
        "---\n",
        "\n",
        "**Usos y observacones adicionales**"
      ],
      "metadata": {
        "id": "cxYcWi6M7Vn1"
      }
    },
    {
      "cell_type": "markdown",
      "source": [
        "3.   Descargar mi trabajo en formato de archivo, para cargarlo en otros recursos como carpetas virtuales o repositorios vituales, como GitHub.\n",
        "4.   Puedo usar comandos.\n",
        "4.   Se puede ingresar emoticones.\n",
        "6.   Puedo acudir a la guía de sintaxis básica de Markdaown, disponible en la URL https://www.markdownguide.org/basic-syntax/, para aprender un poco más del lengauje empleado. Asimismo, puedo acudir a guías para ecuaciones, como las disponbles en las siguientes URLS: https://wiki.geogebra.org/es/C%C3%B3digo_LaTeX_para_las_f%C3%B3rmulas_m%C3%A1s_comunes y https://www.codecogs.com/latex/eqneditor.php\n",
        "\n",
        "\n"
      ],
      "metadata": {
        "id": "mWLSc2Oz6axO"
      }
    }
  ]
}
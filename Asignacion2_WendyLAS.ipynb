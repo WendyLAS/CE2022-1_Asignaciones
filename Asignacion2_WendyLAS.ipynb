{
  "nbformat": 4,
  "nbformat_minor": 0,
  "metadata": {
    "colab": {
      "name": "Asignacion2_WendyLAS.ipynb",
      "provenance": [],
      "collapsed_sections": []
    },
    "kernelspec": {
      "name": "python3",
      "display_name": "Python 3"
    },
    "language_info": {
      "name": "python"
    }
  },
  "cells": [
    {
      "cell_type": "markdown",
      "source": [
        "# **Segundo Notebook \"Creando Variables y Asignando Valores\" 📋** #"
      ],
      "metadata": {
        "id": "VdiuLfaBpO9V"
      }
    },
    {
      "cell_type": "markdown",
      "source": [
        "> **Presentado por:**\n",
        "\n",
        "*   Wendy Lorena Alvarado Sánchez\n",
        "\n",
        "> **Presentado a:** \n",
        "\n",
        "*   Profesor Aquiles Enrique Darghan Contreras\n",
        "*   Monitor Carlos Armando Rivera Moreno\n",
        "*   Monitor José Luis Castellanos Coronel\n",
        "\n",
        ">  **Asignación 2:**\n",
        "\n",
        "*   Creación de *Segundo Notebook \"Creando Variables y Asignando Valores\"*, a partir de la clase 3: 16 de marzo de 2022.\n"
      ],
      "metadata": {
        "id": "Xfp46s8Xpk1F"
      }
    },
    {
      "cell_type": "markdown",
      "source": [
        "## Nombrar variables\n",
        "\n",
        "Puedo crear una variable de nombre, segun eleccion, y asignarle un valor, por medio del signo \"=\"\n",
        "\n",
        "✅ Ejemplo:"
      ],
      "metadata": {
        "id": "FAqAbpbIqcqU"
      }
    },
    {
      "cell_type": "code",
      "execution_count": 4,
      "metadata": {
        "colab": {
          "base_uri": "https://localhost:8080/"
        },
        "id": "dmgKFuNi2vJY",
        "outputId": "6d63016e-8a43-45c2-c096-4bab3d268fc6"
      },
      "outputs": [
        {
          "output_type": "execute_result",
          "data": {
            "text/plain": [
              "5"
            ]
          },
          "metadata": {},
          "execution_count": 4
        }
      ],
      "source": [
        "a = 5\n",
        "a"
      ]
    },
    {
      "cell_type": "markdown",
      "source": [
        "## Observaciones"
      ],
      "metadata": {
        "id": "f0RCzy2Hqn3Q"
      }
    },
    {
      "cell_type": "markdown",
      "source": [
        "Al ser un programa en inglés, al momento de nombrar la variable, se debe tener en cuenta:\n",
        "\n",
        "*   No usar puntos\n",
        "*   No iniciar por numeros\n",
        "*   Evitar el uso de tildes y caracteres especiales como \"ñ\"\n",
        "*   El uso de letras MAYUSCULAS y minusculas es relevante\n",
        "\n",
        "✅ Ejemplo:"
      ],
      "metadata": {
        "id": "V1exZQgwqwFn"
      }
    },
    {
      "cell_type": "code",
      "source": [
        "# rendimiento_variedad1\n",
        "rto_var1 = 20.05\n",
        "rto_var1"
      ],
      "metadata": {
        "colab": {
          "base_uri": "https://localhost:8080/"
        },
        "id": "PC5La6Sy2-Kw",
        "outputId": "8dfa8273-c88e-45f6-b7f6-e32a2c3c6b6b"
      },
      "execution_count": 5,
      "outputs": [
        {
          "output_type": "execute_result",
          "data": {
            "text/plain": [
              "20.05"
            ]
          },
          "metadata": {},
          "execution_count": 5
        }
      ]
    },
    {
      "cell_type": "markdown",
      "source": [
        "### Tipos de datos"
      ],
      "metadata": {
        "id": "JBiWq_AH3Y01"
      }
    },
    {
      "cell_type": "markdown",
      "source": [
        "\n",
        "\n",
        "---\n",
        "**Asignacion a datos enteros**\n",
        "\n",
        "Se emplea para números enteros.\n",
        "\n",
        "✅ Ejemplo: numero de plantas.\n"
      ],
      "metadata": {
        "id": "UcKUvE1K0oEB"
      }
    },
    {
      "cell_type": "code",
      "source": [
        "v1 = 30\n",
        "print(v1, 'es tipo:', type(v1))"
      ],
      "metadata": {
        "colab": {
          "base_uri": "https://localhost:8080/"
        },
        "id": "3AhCI1PE3Wsv",
        "outputId": "02686cdf-c081-4839-892d-21c111898803"
      },
      "execution_count": 6,
      "outputs": [
        {
          "output_type": "stream",
          "name": "stdout",
          "text": [
            "30 es tipo: <class 'int'>\n"
          ]
        }
      ]
    },
    {
      "cell_type": "markdown",
      "source": [
        "\n",
        "\n",
        "---\n",
        "**Asignacion a datos flotante**\n",
        "\n",
        "Se emplea para números decimales.\n",
        "\n",
        "✅ Ejemplo: pH del suelo."
      ],
      "metadata": {
        "id": "_bnpiI-D1Uxc"
      }
    },
    {
      "cell_type": "code",
      "source": [
        "v2 = 15.23\n",
        "print(v2, 'es tipo:', type(v2))"
      ],
      "metadata": {
        "colab": {
          "base_uri": "https://localhost:8080/"
        },
        "id": "U_POsoP_1ehp",
        "outputId": "1ddbfddf-1c32-4591-c9c0-38c39d78807c"
      },
      "execution_count": 7,
      "outputs": [
        {
          "output_type": "stream",
          "name": "stdout",
          "text": [
            "15.23 es tipo: <class 'float'>\n"
          ]
        }
      ]
    },
    {
      "cell_type": "markdown",
      "source": [
        "---\n",
        "**Asignacion \"*String*\"**\n",
        "\n",
        "Se emplea para expresiones de tipo cualitativo, cadenas de caractéres.\n",
        "\n",
        "✅ Ejemplo: fenotipo."
      ],
      "metadata": {
        "id": "gkuavh6s17Cq"
      }
    },
    {
      "cell_type": "code",
      "source": [
        "v3 = 'fuste alto'\n",
        "print(v3, 'es tipo:', type(v3))"
      ],
      "metadata": {
        "colab": {
          "base_uri": "https://localhost:8080/"
        },
        "id": "FxLEFdcH2RZQ",
        "outputId": "a86c385b-016f-415b-c89d-7d6cb5630981"
      },
      "execution_count": 12,
      "outputs": [
        {
          "output_type": "stream",
          "name": "stdout",
          "text": [
            "fuste alto es tipo: <class 'str'>\n"
          ]
        }
      ]
    },
    {
      "cell_type": "markdown",
      "source": [
        "---\n",
        "**Asignacion logica**\n",
        "\n",
        "Se emplea para expresiones booleanas que permiten hacer comparaciones. En estas, la primera letra del valor asignado a la variable, se escribe en mayuscula. Únicamente \"*False*\" para rechazar la expresión o \"*True*\" para aprobarla.\n",
        "\n",
        "✅ Ejemplo: Apta o no apta para cosecha. "
      ],
      "metadata": {
        "id": "4i6MpKK32HdJ"
      }
    },
    {
      "cell_type": "code",
      "source": [
        "v4 = False\n",
        "print(v4, 'es tipo:', type(v4))"
      ],
      "metadata": {
        "colab": {
          "base_uri": "https://localhost:8080/"
        },
        "id": "QebzuhwD3bv1",
        "outputId": "f0481e88-8fa2-45ae-866d-66235c355f09"
      },
      "execution_count": 10,
      "outputs": [
        {
          "output_type": "stream",
          "name": "stdout",
          "text": [
            "False es tipo: <class 'bool'>\n"
          ]
        }
      ]
    },
    {
      "cell_type": "markdown",
      "source": [
        "---\n",
        "**Asignacion \"*None*\"**\n",
        "\n",
        "Se emplea para variables que aún no han sido inicializadas.\n",
        "\n",
        "✅ Ejemplo:"
      ],
      "metadata": {
        "id": "0Lqnz92v4fnQ"
      }
    },
    {
      "cell_type": "code",
      "source": [
        "v5 = None\n",
        "print(v5, 'es tipo:', type(v5))"
      ],
      "metadata": {
        "colab": {
          "base_uri": "https://localhost:8080/"
        },
        "id": "knjjjN9H4grD",
        "outputId": "134f3d29-0694-433f-b722-f137e7afea2f"
      },
      "execution_count": 11,
      "outputs": [
        {
          "output_type": "stream",
          "name": "stdout",
          "text": [
            "None es tipo: <class 'NoneType'>\n"
          ]
        }
      ]
    },
    {
      "cell_type": "markdown",
      "source": [
        "### Operadores\n",
        "\n",
        "Asigno valor a las variables a operar y luego indico, la operación a realizar."
      ],
      "metadata": {
        "id": "2OO5dPfz4PTt"
      }
    },
    {
      "cell_type": "markdown",
      "source": [
        "\n",
        "\n",
        "---\n",
        "**Aritmeticos**\n",
        "\n",
        "✅ Ejemplo: suma"
      ],
      "metadata": {
        "id": "ys2q8WCz77Rk"
      }
    },
    {
      "cell_type": "code",
      "source": [
        "a = 6\n",
        "b = 5\n",
        "\n",
        "res = a+b\n",
        "print(res)"
      ],
      "metadata": {
        "colab": {
          "base_uri": "https://localhost:8080/"
        },
        "id": "tbWZ2Bbi4OHA",
        "outputId": "5a58fabe-6303-4829-e1ea-69501f204c4c"
      },
      "execution_count": 18,
      "outputs": [
        {
          "output_type": "stream",
          "name": "stdout",
          "text": [
            "11\n"
          ]
        }
      ]
    },
    {
      "cell_type": "markdown",
      "source": [
        "✅ Ejemplo: diferencia."
      ],
      "metadata": {
        "id": "7KKFrkLk84Qd"
      }
    },
    {
      "cell_type": "code",
      "source": [
        "a = 7\n",
        "b = 2\n",
        "\n",
        "res = a-b\n",
        "print(res)"
      ],
      "metadata": {
        "colab": {
          "base_uri": "https://localhost:8080/"
        },
        "id": "JYu7FTY789Ax",
        "outputId": "8dbef801-3a9b-44da-86fe-9f13cae893f3"
      },
      "execution_count": 17,
      "outputs": [
        {
          "output_type": "stream",
          "name": "stdout",
          "text": [
            "5\n"
          ]
        }
      ]
    },
    {
      "cell_type": "markdown",
      "source": [
        "✅ Ejemplo: producto."
      ],
      "metadata": {
        "id": "w4gvxC8i8_T9"
      }
    },
    {
      "cell_type": "code",
      "source": [
        "a = 3\n",
        "b = 6\n",
        "\n",
        "res = a*b\n",
        "print(res)"
      ],
      "metadata": {
        "colab": {
          "base_uri": "https://localhost:8080/"
        },
        "id": "8how7Jl99EPz",
        "outputId": "2098b4f3-bd65-4ff6-ccc8-9d32ef1bc063"
      },
      "execution_count": 13,
      "outputs": [
        {
          "output_type": "stream",
          "name": "stdout",
          "text": [
            "18\n"
          ]
        }
      ]
    },
    {
      "cell_type": "markdown",
      "source": [
        "✅ Ejemplo: cociente."
      ],
      "metadata": {
        "id": "J4D2QJwb9Eqo"
      }
    },
    {
      "cell_type": "code",
      "source": [
        "a = 1\n",
        "b = 9\n",
        "\n",
        "res = a/b\n",
        "print(res)"
      ],
      "metadata": {
        "colab": {
          "base_uri": "https://localhost:8080/"
        },
        "id": "nzEr5UQp9HTx",
        "outputId": "c0f82353-a3a9-4754-d305-558773a081e0"
      },
      "execution_count": 14,
      "outputs": [
        {
          "output_type": "stream",
          "name": "stdout",
          "text": [
            "0.1111111111111111\n"
          ]
        }
      ]
    },
    {
      "cell_type": "markdown",
      "source": [
        "✅ Ejemplo: potencia."
      ],
      "metadata": {
        "id": "3nIO7KaP9zB_"
      }
    },
    {
      "cell_type": "code",
      "source": [
        "a = 8\n",
        "b = 2\n",
        "\n",
        "res = a**b\n",
        "print(res)"
      ],
      "metadata": {
        "colab": {
          "base_uri": "https://localhost:8080/"
        },
        "id": "YGIUrObW9znU",
        "outputId": "8754910d-3a06-413d-f4a1-0866342d1d48"
      },
      "execution_count": 15,
      "outputs": [
        {
          "output_type": "stream",
          "name": "stdout",
          "text": [
            "64\n"
          ]
        }
      ]
    },
    {
      "cell_type": "markdown",
      "source": [
        ""
      ],
      "metadata": {
        "id": "U_eBeGYz9PY2"
      }
    },
    {
      "cell_type": "code",
      "source": [
        "print('a:', a, ' - b:', b)\n",
        "print('b/a', b/a)\n",
        "\n",
        "# División entera\n",
        "print('b//a', b//a)\n",
        "\n",
        "# Residuo\n",
        "print('b%a', b%a)"
      ],
      "metadata": {
        "colab": {
          "base_uri": "https://localhost:8080/"
        },
        "id": "gRSFuiAf5AAs",
        "outputId": "2d685129-6a6d-4735-ac19-8a9d2c5cc13a"
      },
      "execution_count": null,
      "outputs": [
        {
          "output_type": "stream",
          "name": "stdout",
          "text": [
            "a: 3  - b: 5\n",
            "b/a 1.6666666666666667\n",
            "b//a 1\n",
            "b%a 2\n"
          ]
        }
      ]
    },
    {
      "cell_type": "code",
      "source": [
        "5 == 4 # Igualdad"
      ],
      "metadata": {
        "colab": {
          "base_uri": "https://localhost:8080/"
        },
        "id": "k2K0B6_h5Fjr",
        "outputId": "297ec969-858d-4cb4-b1d1-4ec17314b1d2"
      },
      "execution_count": null,
      "outputs": [
        {
          "output_type": "execute_result",
          "data": {
            "text/plain": [
              "False"
            ]
          },
          "metadata": {},
          "execution_count": 17
        }
      ]
    },
    {
      "cell_type": "code",
      "source": [
        "5 != 4 # Diferecia"
      ],
      "metadata": {
        "colab": {
          "base_uri": "https://localhost:8080/"
        },
        "id": "9qvaCZyF5oFl",
        "outputId": "9fad3c81-9aef-4b61-b3a5-5c753d3ad2c2"
      },
      "execution_count": null,
      "outputs": [
        {
          "output_type": "execute_result",
          "data": {
            "text/plain": [
              "True"
            ]
          },
          "metadata": {},
          "execution_count": 18
        }
      ]
    },
    {
      "cell_type": "code",
      "source": [
        "not (5==4) # Negacion"
      ],
      "metadata": {
        "colab": {
          "base_uri": "https://localhost:8080/"
        },
        "id": "y6d6U68U5xZA",
        "outputId": "746963e5-c21b-4e83-e59d-63f351367aab"
      },
      "execution_count": null,
      "outputs": [
        {
          "output_type": "execute_result",
          "data": {
            "text/plain": [
              "True"
            ]
          },
          "metadata": {},
          "execution_count": 19
        }
      ]
    },
    {
      "cell_type": "code",
      "source": [
        "(5>4) and (7<10) # Ambas condiciones se cumplen"
      ],
      "metadata": {
        "colab": {
          "base_uri": "https://localhost:8080/"
        },
        "id": "IElB7yqm55EA",
        "outputId": "fb304470-8dab-4f11-fcec-57ceb9eeb72d"
      },
      "execution_count": null,
      "outputs": [
        {
          "output_type": "execute_result",
          "data": {
            "text/plain": [
              "True"
            ]
          },
          "metadata": {},
          "execution_count": 20
        }
      ]
    },
    {
      "cell_type": "code",
      "source": [
        "(5>4) and (7>10) # Solo se cumple la primera, por ende es falso que ambas sean ciertas"
      ],
      "metadata": {
        "colab": {
          "base_uri": "https://localhost:8080/"
        },
        "id": "SDX_5S6J5_hw",
        "outputId": "dd09856c-7c4f-4e71-f603-caa1be9cbde2"
      },
      "execution_count": null,
      "outputs": [
        {
          "output_type": "execute_result",
          "data": {
            "text/plain": [
              "False"
            ]
          },
          "metadata": {},
          "execution_count": 21
        }
      ]
    },
    {
      "cell_type": "code",
      "source": [
        "(5>4) or (7>10) # Al menos una condicion de cumple"
      ],
      "metadata": {
        "colab": {
          "base_uri": "https://localhost:8080/"
        },
        "id": "6JaPATnF6J-q",
        "outputId": "80c07b0e-dde0-45de-d94b-078684539d1b"
      },
      "execution_count": null,
      "outputs": [
        {
          "output_type": "execute_result",
          "data": {
            "text/plain": [
              "True"
            ]
          },
          "metadata": {},
          "execution_count": 22
        }
      ]
    },
    {
      "cell_type": "code",
      "source": [
        "print('Hola', 'Python')\n",
        "print('Hola', 'Python', end='\\n')\n",
        "print('Hola', 'Python', end=', ')\n",
        "print('Hola', 'Python', end=' ')"
      ],
      "metadata": {
        "colab": {
          "base_uri": "https://localhost:8080/"
        },
        "id": "2QiNZBQr6PZr",
        "outputId": "75d63214-d920-42a3-a0d1-0f9eb047d141"
      },
      "execution_count": null,
      "outputs": [
        {
          "output_type": "stream",
          "name": "stdout",
          "text": [
            "Hola Python\n",
            "Hola Python\n",
            "Hola Python, Hola Python "
          ]
        }
      ]
    },
    {
      "cell_type": "code",
      "source": [
        "# Ingresar un dato desde consola\n",
        "numero = input('Ingrese el numero: ')\n",
        "print(type(numero))\n",
        "print('su numero es: ', numero)"
      ],
      "metadata": {
        "colab": {
          "base_uri": "https://localhost:8080/"
        },
        "id": "NVf1S10O6uKN",
        "outputId": "95b9d87a-054d-45e4-d87c-06ba1380bad2"
      },
      "execution_count": null,
      "outputs": [
        {
          "output_type": "stream",
          "name": "stdout",
          "text": [
            "Ingrese el numero: 100\n",
            "<class 'str'>\n",
            "su numero es:  100\n"
          ]
        }
      ]
    },
    {
      "cell_type": "code",
      "source": [
        "# Para ejecutar un chunk ctrl + enter o shift + enter"
      ],
      "metadata": {
        "id": "lw3rYlsd7hDH"
      },
      "execution_count": null,
      "outputs": []
    },
    {
      "cell_type": "code",
      "source": [
        "nombre = input('Su nombre: ')\n",
        "num1 = input('Primer numero: ')\n",
        "num2 = input('Segundo numero: ')\n",
        "suma = int(num1) + int(num2)\n",
        "print(f'Hola {nombre}, la suma es: {suma}')"
      ],
      "metadata": {
        "colab": {
          "base_uri": "https://localhost:8080/"
        },
        "id": "PSrHAZMH7x-c",
        "outputId": "8d7cea56-247d-4d81-c545-e8ca0314e0c2"
      },
      "execution_count": null,
      "outputs": [
        {
          "output_type": "stream",
          "name": "stdout",
          "text": [
            "Su nombre: Pepe\n",
            "Primer numero: 10\n",
            "Segundo numero: 20\n",
            "Hola Pepe, la suma es: 30\n"
          ]
        }
      ]
    },
    {
      "cell_type": "markdown",
      "source": [
        "Calcular el papa"
      ],
      "metadata": {
        "id": "u_4Zw-Mh9J0E"
      }
    },
    {
      "cell_type": "code",
      "source": [
        "nota1 = float(input('Nota Asignatura 1: '))\n",
        "nota2 = float(input('Nota Asignatura 2: '))\n",
        "nota3 = float(input('Nota Asignatura 3: '))\n",
        "nota4 = float(input('Nota Asignatura 4: '))\n",
        "nota5 = float(input('Nota Asignatura 5: '))\n",
        "\n",
        "promedio = (3*nota1 + 3*nota2 + 3*nota3 + 4*nota4 + 4*nota5) / (3+3+3+4+4)\n",
        "print(promedio)\n",
        "\n",
        "if promedio >= 4:\n",
        "  print('Felicitaciones, su promedio es {:.3f}'.format(promedio))\n",
        "elif (promedio < 4) and (promedio >=3):\n",
        "  print('Puedes Mejorar, su promedio es {:.3f}'.format(promedio))\n",
        "else:\n",
        "  print('Nos vemos el proximo semestre, su promedio es {:.3f}'.format(promedio))"
      ],
      "metadata": {
        "colab": {
          "base_uri": "https://localhost:8080/"
        },
        "id": "L7ctK9hT8LM6",
        "outputId": "432e14a0-5962-461a-87e1-89b5dc3cc27f"
      },
      "execution_count": null,
      "outputs": [
        {
          "output_type": "stream",
          "name": "stdout",
          "text": [
            "Nota Asignatura 1: 4.3\n",
            "Nota Asignatura 2: 4.2\n",
            "Nota Asignatura 3: 3.8\n",
            "Nota Asignatura 4: 3.2\n",
            "Nota Asignatura 5: 4.4\n",
            "3.9588235294117653\n",
            "4.0\n",
            "3.96\n",
            "3.959\n",
            "3.9588\n",
            "Puedes Mejorar, su promedio es 3.959\n"
          ]
        }
      ]
    },
    {
      "cell_type": "code",
      "source": [
        "edad = int(input('Ingrese su edad: '))\n",
        "\n",
        "if edad >= 18:\n",
        "  print('Eres mayor de Edad')\n",
        "else: \n",
        "  print('No eres mayor de edad')"
      ],
      "metadata": {
        "colab": {
          "base_uri": "https://localhost:8080/"
        },
        "id": "z6dSKlkZ-J7Y",
        "outputId": "a90de2fc-14d1-4f95-d18c-3561170966d4"
      },
      "execution_count": null,
      "outputs": [
        {
          "output_type": "stream",
          "name": "stdout",
          "text": [
            "Ingrese su edad: 23\n",
            "Eres mayor de Edad\n"
          ]
        }
      ]
    },
    {
      "cell_type": "code",
      "source": [
        "a = float(input('Ingrese el primer numero: '))\n",
        "b = float(input('Ingrese el segundo numero: '))\n",
        "op = input('Ingrese el operación: \\n(1=suma, 2=resta, 3=producto, 4=cociente)\\n')\n",
        "\n",
        "if op == '1':\n",
        "  print('Suma: ', a+b)\n",
        "elif op == '2':\n",
        "  print('Resta: ', a-b)\n",
        "elif op == '3':\n",
        "  print('Producto: ', a*b)\n",
        "elif op == '4':\n",
        "  print('Cociente: ', a/b)\n",
        "else:\n",
        "  print('Operación desconocida')\n",
        "\n",
        "print('Adios')"
      ],
      "metadata": {
        "colab": {
          "base_uri": "https://localhost:8080/"
        },
        "id": "RJAfe3-8B4uq",
        "outputId": "0ed36553-fcfc-4dcc-9d79-6f031c618456"
      },
      "execution_count": null,
      "outputs": [
        {
          "output_type": "stream",
          "name": "stdout",
          "text": [
            "Ingrese el primer numero: 3\n",
            "Ingrese el segundo numero: 5\n",
            "Ingrese el operación: \n",
            "(1=suma, 2=resta, 3=producto, 4=cociente)\n",
            "3\n",
            "Producto:  15.0\n",
            "Adios\n"
          ]
        }
      ]
    },
    {
      "cell_type": "code",
      "source": [
        "a = float(input('Ingrese el primer lado: '))\n",
        "b = float(input('Ingrese el segundo lado: '))\n",
        "c = float(input('Ingrese el tercer lado: '))\n",
        "\n",
        "if (a == b) and (b == c):\n",
        "  print('Triangulo Equilatero')\n",
        "\n",
        "# Con solo if se ejecuta aún cuando el anterior if es True\n",
        "# if (a == b) or (b==c) or (a==c):\n",
        "# Con elif se ejecuta solo si el anterior if es False\n",
        "elif (a == b) or (b==c) or (a==c):\n",
        "  print('Triangulo isosceles')\n",
        "else:\n",
        "  print('Escaleno')"
      ],
      "metadata": {
        "colab": {
          "base_uri": "https://localhost:8080/"
        },
        "id": "Qlr8qPjaCpx_",
        "outputId": "1cd9526d-5046-425e-f414-1dcad8949c1b"
      },
      "execution_count": null,
      "outputs": [
        {
          "output_type": "stream",
          "name": "stdout",
          "text": [
            "Ingrese el primer lado: 13\n",
            "Ingrese el segundo lado: 13\n",
            "Ingrese el tercer lado: 10\n",
            "Triangulo isosceles\n"
          ]
        }
      ]
    },
    {
      "cell_type": "markdown",
      "source": [
        "### Calculando la ecuación de segundo grado\n",
        "\n",
        "$$x = \\frac{-b \\pm \\sqrt{b^2-4ac}}{2a}$$"
      ],
      "metadata": {
        "id": "iM9N8-7yEfvm"
      }
    },
    {
      "cell_type": "code",
      "source": [
        "a = float(input('Ingrese a: '))\n",
        "b = float(input('Ingrese b: '))\n",
        "c = float(input('Ingrese c: '))\n",
        "\n",
        "if a != 0:\n",
        "  if ((b**2)-(4*a*c))>=0:\n",
        "    print('Tiene solución real')\n",
        "  else:\n",
        "    print('Tiene solución compleja')\n",
        "else:\n",
        "  print('No es cuadratica')"
      ],
      "metadata": {
        "colab": {
          "base_uri": "https://localhost:8080/"
        },
        "id": "-puiNjVBDkzA",
        "outputId": "a11fc6ca-05ee-4241-818c-d0f6de3c8413"
      },
      "execution_count": null,
      "outputs": [
        {
          "output_type": "stream",
          "name": "stdout",
          "text": [
            "Ingrese a: 2\n",
            "Ingrese b: 3\n",
            "Ingrese c: 10\n",
            "Tiene solución compleja\n"
          ]
        }
      ]
    },
    {
      "cell_type": "markdown",
      "source": [
        "$$z = \\frac{\\log{x}\\sqrt[3]{x-1}}{x+1}$$"
      ],
      "metadata": {
        "id": "9BjNKVjWF7vl"
      }
    },
    {
      "cell_type": "markdown",
      "source": [
        "Condiciones\n",
        "\n",
        "1. $x>0$\n",
        "2. $x \\neq -1$\n"
      ],
      "metadata": {
        "id": "hfjvTgOVGrXD"
      }
    },
    {
      "cell_type": "code",
      "source": [
        "from math import log\n",
        "\n",
        "x = float(input('Ingrese X: '))\n",
        "if x<0:\n",
        "  print('Fuera del dominio de Z')\n",
        "else:\n",
        "  z = log(x) * (x-1)**(1/3) / (x+1)\n",
        "  print(f'Z es: {z}')"
      ],
      "metadata": {
        "colab": {
          "base_uri": "https://localhost:8080/"
        },
        "id": "1NNg_LS8FpFW",
        "outputId": "9819d399-ed5c-4c59-f331-2bfde06a0fa3"
      },
      "execution_count": null,
      "outputs": [
        {
          "output_type": "stream",
          "name": "stdout",
          "text": [
            "Ingrese X: -2\n",
            "Fuera del dominio de x\n"
          ]
        }
      ]
    },
    {
      "cell_type": "markdown",
      "source": [
        "$$z = \\frac{\\log{x}\\sqrt[3]{x-1}}{x-1}$$\n",
        "\n",
        "Condiciones\n",
        "\n",
        "1. $x>0$\n",
        "2. $x\\neq1$\n",
        "\n"
      ],
      "metadata": {
        "id": "-5GiJtT_IHhN"
      }
    },
    {
      "cell_type": "code",
      "source": [
        "from math import pow\n",
        "\n",
        "x = float(input('Ingrese X: '))\n",
        "if (x<=0) or (x==1):\n",
        "  print('Fuera del dominio de Z')\n",
        "else:\n",
        "  if (x-1) < 0:\n",
        "    z = log(x) * -pow(abs(x-1), 1/3) / (x-1)\n",
        "  else:\n",
        "    z = log(x) * pow(x-1, 1/3) / (x-1)\n",
        "\n",
        "  print('Z es: {:.3f}'.format(z))"
      ],
      "metadata": {
        "colab": {
          "base_uri": "https://localhost:8080/"
        },
        "id": "7bbVNA5bHY2p",
        "outputId": "be8248f8-7c1c-4dae-8fe0-24919b3bd495"
      },
      "execution_count": null,
      "outputs": [
        {
          "output_type": "stream",
          "name": "stdout",
          "text": [
            "Ingrese X: 2\n",
            "Z es: 0.693\n"
          ]
        }
      ]
    },
    {
      "cell_type": "markdown",
      "source": [
        "Colocando una imagen `![]()`\n",
        "\n",
        "![Nombre Imagen](data:image/png;base64,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)"
      ],
      "metadata": {
        "id": "wrlaaCKDLJ-8"
      }
    },
    {
      "cell_type": "code",
      "source": [
        ""
      ],
      "metadata": {
        "id": "58xSTgfyLYYl"
      },
      "execution_count": null,
      "outputs": []
    }
  ]
}